{
 "cells": [
  {
   "cell_type": "code",
   "execution_count": 1,
   "metadata": {},
   "outputs": [],
   "source": [
    "import numpy as np\n",
    "from scipy import stats\n",
    "import scipy.stats\n",
    "import pandas as pd\n",
    "import statsmodels.api as sm\n",
    "import matplotlib.pyplot as plt\n",
    "import seaborn as sns\n",
    "from statsmodels.stats.proportion import proportions_ztest\n",
    "from scipy.stats import shapiro"
   ]
  },
  {
   "cell_type": "markdown",
   "metadata": {},
   "source": [
    "# p.131"
   ]
  },
  {
   "cell_type": "code",
   "execution_count": 2,
   "metadata": {},
   "outputs": [
    {
     "name": "stdout",
     "output_type": "stream",
     "text": [
      "1-sample t-test\n",
      "t 통계량: [4.879]\n",
      "p-value: [0.001]\n"
     ]
    }
   ],
   "source": [
    "df1 = pd.DataFrame({'sample': [85.0, 79.0, 79.1, 79.9, 81.6, 78.6, 85.4, 83.4, 78.1, 79.2]})\n",
    "t_result1 = stats.ttest_1samp(df1, 76.7)\n",
    "t1,p1 = t_result1.statistic.round(3), t_result1.pvalue.round(3)\n",
    "print(\"1-sample t-test\")\n",
    "print(\"t 통계량: {}\".format(t1))\n",
    "print(\"p-value: {}\".format(p1))"
   ]
  },
  {
   "cell_type": "markdown",
   "metadata": {},
   "source": [
    "유의수준 5%에서 p-value 값이 0.001이므로 귀무가설이 기각된다."
   ]
  },
  {
   "cell_type": "markdown",
   "metadata": {},
   "source": [
    "# p.139"
   ]
  },
  {
   "cell_type": "code",
   "execution_count": 3,
   "metadata": {},
   "outputs": [
    {
     "data": {
      "text/plain": [
       "LeveneResult(statistic=0.4408416728536036, pvalue=0.5175025061092301)"
      ]
     },
     "execution_count": 3,
     "metadata": {},
     "output_type": "execute_result"
    }
   ],
   "source": [
    "#등분산성 검정/ 등분산성이 있다(귀무가설 )/ \n",
    "df1 = pd.DataFrame({'A': [1.883, 1.715, 1.799, 1.768, 1.711, 1.832, 1.427, 1.344]})\n",
    "df2 = pd.DataFrame({'B': [1.435, 1.572, 1.486, 1.511, 1.457, 1.548, 1.404, 1.883]})\n",
    "stats.levene(df1['A'], df2['B'])"
   ]
  },
  {
   "cell_type": "markdown",
   "metadata": {},
   "source": [
    "등분산 검정 결과 p-value가 0.51이므로 귀무가설이 기각 되지 않는다. 즉, 정규성이 존재한다."
   ]
  },
  {
   "cell_type": "code",
   "execution_count": 4,
   "metadata": {},
   "outputs": [
    {
     "name": "stdout",
     "output_type": "stream",
     "text": [
      "2-sample t-test\n",
      "t: [1.7]\n",
      "p: [0.111]\n"
     ]
    }
   ],
   "source": [
    "t_result = stats.ttest_ind(df1,df2)\n",
    "t,p = t_result.statistic.round(3), t_result.pvalue.round(3)\n",
    "print(\"2-sample t-test\")\n",
    "print(\"t: {}\".format(t))\n",
    "print(\"p: {}\".format(p))"
   ]
  },
  {
   "cell_type": "markdown",
   "metadata": {},
   "source": [
    "유의수준 5%에서 p-value 값이 0.111이므로 귀무가설이 기각 되지 않는다."
   ]
  },
  {
   "cell_type": "markdown",
   "metadata": {},
   "source": [
    "# p.142"
   ]
  },
  {
   "cell_type": "code",
   "execution_count": 6,
   "metadata": {},
   "outputs": [
    {
     "name": "stdout",
     "output_type": "stream",
     "text": [
      "Paired t-test\n",
      "t: [-2.266]\n",
      "p: [0.05]\n"
     ]
    }
   ],
   "source": [
    "df1 = pd.DataFrame({'sample': [720, 589, 780, 648, 720, 589, 780, 648, 780, 648]})\n",
    "df2 = pd.DataFrame({'sample': [710, 580, 787, 712, 750, 600, 782, 670, 790, 680]})\n",
    "t_result = stats.ttest_rel(df1,df2)\n",
    "t,p = t_result.statistic.round(3), t_result.pvalue.round(3)\n",
    "print(\"Paired t-test\")\n",
    "print(\"t: {}\".format(t))\n",
    "print(\"p: {}\".format(p))"
   ]
  },
  {
   "cell_type": "markdown",
   "metadata": {},
   "source": [
    "유의수준 5%에서 p-value 값이 0.05이므로 귀무가설이 기각 되지 않는다.\n",
    "(기각도 충분히 할 수는 있지만 보수적으로 접근하고자 했습니다.)"
   ]
  },
  {
   "cell_type": "markdown",
   "metadata": {},
   "source": [
    "# p.148"
   ]
  },
  {
   "cell_type": "code",
   "execution_count": 7,
   "metadata": {},
   "outputs": [
    {
     "name": "stdout",
     "output_type": "stream",
     "text": [
      "1 Proportion test\n",
      "z: -2.041\n",
      "p: 0.041\n"
     ]
    }
   ],
   "source": [
    "count = 40\n",
    "n_obs = 100\n",
    "value = 0.5\n",
    "\n",
    "stat, pval = proportions_ztest(count, n_obs, value)\n",
    "print(\"1 Proportion test\")\n",
    "print(\"z: {0:0.3f}\".format(stat))\n",
    "print(\"p: {0:0.3f}\".format(pval))"
   ]
  },
  {
   "cell_type": "markdown",
   "metadata": {},
   "source": [
    "유의수준 5%에서 p-value 값이 0.041이므로 귀무가설이 기각된다."
   ]
  },
  {
   "cell_type": "markdown",
   "metadata": {},
   "source": [
    "# p.151"
   ]
  },
  {
   "cell_type": "code",
   "execution_count": 8,
   "metadata": {},
   "outputs": [
    {
     "name": "stdout",
     "output_type": "stream",
     "text": [
      "2 Proportion test\n",
      "z: 2.073\n",
      "p: 0.038\n"
     ]
    }
   ],
   "source": [
    "count = np.array([14,5])\n",
    "nobs = np.array([1200, 1200])\n",
    "\n",
    "stat, pval = proportions_ztest(count, nobs)\n",
    "print(\"2 Proportion test\")\n",
    "print(\"z: {0:0.3f}\".format(stat))\n",
    "print(\"p: {0:0.3f}\".format(pval))"
   ]
  },
  {
   "cell_type": "markdown",
   "metadata": {},
   "source": [
    "유의수준 5%에서 p-value 값이 0.038이므로 귀무가설이 기각된다."
   ]
  },
  {
   "cell_type": "markdown",
   "metadata": {},
   "source": [
    "# p.159"
   ]
  },
  {
   "cell_type": "code",
   "execution_count": 9,
   "metadata": {},
   "outputs": [
    {
     "name": "stdout",
     "output_type": "stream",
     "text": [
      "chi-square test\n",
      "chisq: 98.274\n",
      "p: 0.000\n",
      "degree of freedom: 30\n",
      "expected value: \n",
      "[[11.004  8.21   5.24   3.843  1.921  9.782]\n",
      " [ 8.528  6.362  4.061  2.978  1.489  7.581]\n",
      " [10.454  7.799  4.978  3.651  1.825  9.293]\n",
      " [ 8.253  6.157  3.93   2.882  1.441  7.336]\n",
      " [ 7.978  5.952  3.799  2.786  1.393  7.092]\n",
      " [ 8.803  6.568  4.192  3.074  1.537  7.825]\n",
      " [ 7.978  5.952  3.799  2.786  1.393  7.092]]\n"
     ]
    }
   ],
   "source": [
    "df = pd.DataFrame({'A/S': [18, 8, 4, 4, 3, 3], '가격':[1,2,1,1,1,25], '성능': [8,14,3,2,3,8], '확장성': [7,5,4,3,1,10], '디자인': [10,5,9,2,1,2], '안정성': [9,9,5,7,1,1], '기능성': [10,4,4,3,1,7]})\n",
    "chi, pval, dof, expected = stats.chi2_contingency(df.T)\n",
    "print(\"chi-square test\")\n",
    "print(\"chisq: {0:0.3f}\".format(chi))\n",
    "print(\"p: {0:0.3f}\".format(pval))\n",
    "print(\"degree of freedom: {}\".format(dof))\n",
    "print(\"expected value: \\n{}\".format(expected.round(3)))"
   ]
  },
  {
   "cell_type": "markdown",
   "metadata": {},
   "source": [
    "유의수준 5%에서 p-value 값이 0.000이므로 귀무가설이 기각된다."
   ]
  },
  {
   "cell_type": "markdown",
   "metadata": {},
   "source": [
    "# p.195"
   ]
  },
  {
   "cell_type": "code",
   "execution_count": 10,
   "metadata": {},
   "outputs": [
    {
     "name": "stdout",
     "output_type": "stream",
     "text": [
      "                            OLS Regression Results                            \n",
      "==============================================================================\n",
      "Dep. Variable:                      y   R-squared:                       0.650\n",
      "Model:                            OLS   Adj. R-squared:                  0.631\n",
      "Method:                 Least Squares   F-statistic:                     33.43\n",
      "Date:                Wed, 02 Sep 2020   Prob (F-statistic):           1.77e-05\n",
      "Time:                        01:53:13   Log-Likelihood:                 46.635\n",
      "No. Observations:                  20   AIC:                            -89.27\n",
      "Df Residuals:                      18   BIC:                            -87.28\n",
      "Df Model:                           1                                         \n",
      "Covariance Type:            nonrobust                                         \n",
      "==============================================================================\n",
      "                 coef    std err          t      P>|t|      [0.025      0.975]\n",
      "------------------------------------------------------------------------------\n",
      "const          0.0225      0.130      0.172      0.865      -0.252       0.297\n",
      "x1             0.0204      0.004      5.782      0.000       0.013       0.028\n",
      "==============================================================================\n",
      "Omnibus:                        2.252   Durbin-Watson:                   1.210\n",
      "Prob(Omnibus):                  0.324   Jarque-Bera (JB):                1.088\n",
      "Skew:                          -0.055   Prob(JB):                        0.580\n",
      "Kurtosis:                       1.863   Cond. No.                         871.\n",
      "==============================================================================\n",
      "\n",
      "Warnings:\n",
      "[1] Standard Errors assume that the covariance matrix of the errors is correctly specified.\n"
     ]
    }
   ],
   "source": [
    "strength = [37.6,38.6,37.2,36.4,38.6,39,37.2,36.1,35.0,37.1,36.9,37.5,36.3,38.1,39,36.9,36.8,37.6,33,33.5]\n",
    "bakingtime = [0.798922,0.84902,0.816163,0.758266,0.815894,0.807477,0.809068,0.7664,0.742243,0.751118,0.740629,0.751495,0.738863,0.827428,0.818172,0.740939,0.757128,0.804695,0.695121,0.735377]\n",
    "strength = sm.add_constant(strength)\n",
    "model = sm.OLS(bakingtime, strength)\n",
    "result = model.fit()\n",
    "print(result.summary())"
   ]
  },
  {
   "cell_type": "markdown",
   "metadata": {},
   "source": [
    "회귀식은 bakingtime = 0.0225 + 0.0204 strength. 설명력은 R-Sq 65%이다."
   ]
  },
  {
   "cell_type": "markdown",
   "metadata": {},
   "source": [
    "# p.198"
   ]
  },
  {
   "cell_type": "code",
   "execution_count": 14,
   "metadata": {},
   "outputs": [
    {
     "name": "stdout",
     "output_type": "stream",
     "text": [
      "                            OLS Regression Results                            \n",
      "==============================================================================\n",
      "Dep. Variable:               strength   R-squared:                       0.001\n",
      "Model:                            OLS   Adj. R-squared:                 -0.011\n",
      "Method:                 Least Squares   F-statistic:                    0.1136\n",
      "Date:                Wed, 02 Sep 2020   Prob (F-statistic):              0.737\n",
      "Time:                        02:01:31   Log-Likelihood:                -223.88\n",
      "No. Observations:                  86   AIC:                             451.8\n",
      "Df Residuals:                      84   BIC:                             456.7\n",
      "Df Model:                           1                                         \n",
      "Covariance Type:            nonrobust                                         \n",
      "==============================================================================\n",
      "                 coef    std err          t      P>|t|      [0.025      0.975]\n",
      "------------------------------------------------------------------------------\n",
      "Intercept     30.4190      5.271      5.771      0.000      19.936      40.902\n",
      "Oven_TMP       0.0056      0.017      0.337      0.737      -0.027       0.038\n",
      "==============================================================================\n",
      "Omnibus:                       15.278   Durbin-Watson:                   0.175\n",
      "Prob(Omnibus):                  0.000   Jarque-Bera (JB):                8.264\n",
      "Skew:                           0.581   Prob(JB):                       0.0160\n",
      "Kurtosis:                       2.023   Cond. No.                     4.71e+03\n",
      "==============================================================================\n",
      "\n",
      "Warnings:\n",
      "[1] Standard Errors assume that the covariance matrix of the errors is correctly specified.\n",
      "[2] The condition number is large, 4.71e+03. This might indicate that there are\n",
      "strong multicollinearity or other numerical problems.\n"
     ]
    }
   ],
   "source": [
    "df = pd.read_csv(\"correlation.csv\", engine = 'python')\n",
    "from sklearn.linear_model import LinearRegression\n",
    "import statsmodels.formula.api as smf\n",
    "model = smf.ols(formula = \"strength ~ Oven_TMP\", data = df)\n",
    "result = model.fit()\n",
    "print(result.summary())"
   ]
  },
  {
   "cell_type": "markdown",
   "metadata": {},
   "source": [
    "회귀식은 strength = 30.4190 + 0.0056 Oven_TMP. 설명력은 R-Sq 0.1%이다."
   ]
  }
 ],
 "metadata": {
  "kernelspec": {
   "display_name": "Python 3",
   "language": "python",
   "name": "python3"
  },
  "language_info": {
   "codemirror_mode": {
    "name": "ipython",
    "version": 3
   },
   "file_extension": ".py",
   "mimetype": "text/x-python",
   "name": "python",
   "nbconvert_exporter": "python",
   "pygments_lexer": "ipython3",
   "version": "3.7.7"
  }
 },
 "nbformat": 4,
 "nbformat_minor": 4
}
