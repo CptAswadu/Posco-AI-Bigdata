{
 "cells": [
  {
   "cell_type": "markdown",
   "metadata": {},
   "source": [
    "# 문제1"
   ]
  },
  {
   "cell_type": "code",
   "execution_count": 1,
   "metadata": {},
   "outputs": [
    {
     "name": "stdout",
     "output_type": "stream",
     "text": [
      "화씨온도: 100\n",
      "섭씨온도: 37.77777777777778\n"
     ]
    }
   ],
   "source": [
    "F = int(input(\"화씨온도: \"))\n",
    "C = (F - 32) * 5/9\n",
    "print(\"섭씨온도: %s\" % C)"
   ]
  },
  {
   "cell_type": "markdown",
   "metadata": {},
   "source": [
    "# 문제2"
   ]
  },
  {
   "cell_type": "code",
   "execution_count": 2,
   "metadata": {},
   "outputs": [
    {
     "name": "stdout",
     "output_type": "stream",
     "text": [
      "투입한 돈: 5000\n",
      "물건값: 2700\n",
      "거스름돈: 2300\n",
      "500원짜리: 4개\n",
      "100원짜리: 3개\n"
     ]
    }
   ],
   "source": [
    "i = int(input(\"투입한 돈: \"))\n",
    "p = int(input(\"물건값: \"))\n",
    "c = i - p\n",
    "f = c // 500\n",
    "o = (c % 500)//100\n",
    "print(\"거스름돈: %s\" % c)\n",
    "print(\"500원짜리: %s개\" % f)\n",
    "print(\"100원짜리: %s개\" % o)"
   ]
  },
  {
   "cell_type": "markdown",
   "metadata": {},
   "source": [
    "# 문제3"
   ]
  },
  {
   "cell_type": "code",
   "execution_count": 3,
   "metadata": {},
   "outputs": [
    {
     "name": "stdout",
     "output_type": "stream",
     "text": [
      "반지름을 입력하시오: 5\n",
      "원 둘레: 31.42\n",
      "원 넓이: 78.54\n"
     ]
    }
   ],
   "source": [
    "r = int(input('반지름을 입력하시오: '))\n",
    "pi = 3.141592\n",
    "w = 2*pi*r\n",
    "s = pi*r**2\n",
    "print('원 둘레: %.2f' % w)\n",
    "print('원 넓이: %.2f' % s)"
   ]
  },
  {
   "cell_type": "markdown",
   "metadata": {},
   "source": [
    "# 문제4"
   ]
  },
  {
   "cell_type": "code",
   "execution_count": 14,
   "metadata": {},
   "outputs": [
    {
     "name": "stdout",
     "output_type": "stream",
     "text": [
      "Enter two integers: 8 5\n",
      "8 + 5 = 13\n",
      "8 - 5 = 3\n",
      "8 * 5 = 40\n",
      "8 / 5 = 1.6\n",
      "8 % 5 = 3\n"
     ]
    }
   ],
   "source": [
    "numbers = input('Enter two integers: ').split( )\n",
    "a = int(numbers[0])\n",
    "b = int(numbers[1])\n",
    "result1 = a + b\n",
    "result2 = a - b\n",
    "result3 = a * b\n",
    "result4 = a / b\n",
    "result5 = a % b\n",
    "\n",
    "print(a,'+',b,'=',result1)\n",
    "print(a,'-',b,'=',result2)\n",
    "print(a,'*',b,'=',result3)\n",
    "print(a,'/',b,'=',result4)\n",
    "print(a,'%',b,'=',result5)"
   ]
  },
  {
   "cell_type": "markdown",
   "metadata": {},
   "source": [
    "# 문제5"
   ]
  },
  {
   "cell_type": "code",
   "execution_count": 20,
   "metadata": {},
   "outputs": [
    {
     "name": "stdout",
     "output_type": "stream",
     "text": [
      "Enter two integers: 71 90\n",
      "The sum of 71 and 90 is 161\n",
      "The average of numbers is 80.5\n"
     ]
    }
   ],
   "source": [
    "numbers = input('Enter two integers: ').split( )\n",
    "a = int(numbers[0])\n",
    "b = int(numbers[1])\n",
    "c = (a+b)/2\n",
    "\n",
    "print('The sum of %d and %d is %d' % (a, b, a+b))\n",
    "print('The average of numbers is %.1f' % c)"
   ]
  },
  {
   "cell_type": "markdown",
   "metadata": {},
   "source": [
    "# 문제6"
   ]
  },
  {
   "cell_type": "code",
   "execution_count": 25,
   "metadata": {},
   "outputs": [
    {
     "name": "stdout",
     "output_type": "stream",
     "text": [
      "날짜(연/월/일) 입력: 2020/08/25\n",
      "입력한 날짜의 10년 후는 2030년 8월 25일\n"
     ]
    }
   ],
   "source": [
    "date = input(\"날짜(연/월/일) 입력: \")\n",
    "year, month, day = date.split(\"/\")\n",
    "year = int(year) + 10\n",
    "month = int(month)\n",
    "day = int(day)\n",
    "\n",
    "print(\"입력한 날짜의 10년 후는 %d년 %d월 %d일\" % (year, month, day))"
   ]
  }
 ],
 "metadata": {
  "kernelspec": {
   "display_name": "Python 3",
   "language": "python",
   "name": "python3"
  },
  "language_info": {
   "codemirror_mode": {
    "name": "ipython",
    "version": 3
   },
   "file_extension": ".py",
   "mimetype": "text/x-python",
   "name": "python",
   "nbconvert_exporter": "python",
   "pygments_lexer": "ipython3",
   "version": "3.7.7"
  }
 },
 "nbformat": 4,
 "nbformat_minor": 4
}
