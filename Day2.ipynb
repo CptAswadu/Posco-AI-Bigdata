{
 "cells": [
  {
   "cell_type": "code",
   "execution_count": 3,
   "metadata": {},
   "outputs": [
    {
     "name": "stdout",
     "output_type": "stream",
     "text": [
      "25\n"
     ]
    }
   ],
   "source": [
    "eng = int(input(\"영어 점수 입력: \"))\n",
    "math = int(input(\"수학 점수 입력: \"))\n",
    "tot = eng + math\n",
    "\n",
    "if tot >= 110:\n",
    "    if eng >= 40 and math >= 40:\n",
    "        print(\"합격\")    \n",
    "    else:\n",
    "        print(\"불합격: 점수 부족\")\n",
    "else:\n",
    "    print(\"불합격: 총합 점수 부족\")"
   ]
  },
  {
   "cell_type": "code",
   "execution_count": null,
   "metadata": {},
   "outputs": [],
   "source": [
    "numbers = int(input(\"세 개의 수를 입력하시오: \"))\n",
    "a, b, c = numbers.split(\" \")\n",
    "max = 0\n",
    "\n",
    "if a < b:\n",
    "    max = b\n",
    "elif b < c:\n",
    "    max = c\n",
    "elif c < a:\n",
    "    max = a\n",
    "\n",
    "print(\"가장 큰 수는 %d 입니다.\" % max)"
   ]
  },
  {
   "cell_type": "code",
   "execution_count": 1,
   "metadata": {},
   "outputs": [
    {
     "name": "stdout",
     "output_type": "stream",
     "text": [
      "1부터 10까지의 합: 55\n"
     ]
    }
   ],
   "source": [
    "hap = 0\n",
    "i = 1\n",
    "while i < 11:\n",
    "    hap = hap + i\n",
    "    i = i + 1\n",
    "    \n",
    "    \n",
    "print(\"1부터 10까지의 합: %d\" % hap)"
   ]
  },
  {
   "cell_type": "code",
   "execution_count": 8,
   "metadata": {},
   "outputs": [
    {
     "name": "stdout",
     "output_type": "stream",
     "text": [
      "출력하고 싶은 단을 입력하세요: 7\n",
      "7 * 1 = 7\n",
      "7 * 2 = 14\n",
      "7 * 3 = 21\n",
      "7 * 4 = 28\n",
      "7 * 5 = 35\n",
      "7 * 6 = 42\n",
      "7 * 7 = 49\n",
      "7 * 8 = 56\n",
      "7 * 9 = 63\n"
     ]
    }
   ],
   "source": [
    "n = int(input(\"출력하고 싶은 단을 입력하세요: \"))\n",
    "for i in range(1, 10):\n",
    "    print(n,'*',i,'=',n*i)"
   ]
  },
  {
   "cell_type": "code",
   "execution_count": 11,
   "metadata": {},
   "outputs": [
    {
     "name": "stdout",
     "output_type": "stream",
     "text": [
      "input an integer: 3159\n",
      "***\n",
      "*\n",
      "*****\n",
      "*********\n"
     ]
    }
   ],
   "source": [
    "num = input(\"input an integer: \")\n",
    "for x in num:\n",
    "    print('*' * int(x))"
   ]
  },
  {
   "cell_type": "code",
   "execution_count": 1,
   "metadata": {},
   "outputs": [
    {
     "name": "stdout",
     "output_type": "stream",
     "text": [
      "Enter a number: 7\n",
      "Enter a number: 2\n",
      "Enter a number: 9\n",
      "Enter a number: 5\n",
      "Enter a number: 3\n",
      "Enter a number: done\n",
      "[7.0, 2.0, 9.0, 5.0, 3.0]\n",
      "Average: 5.2\n",
      "Maximum:  9.0\n",
      "Minimum:  2.0\n"
     ]
    }
   ],
   "source": [
    "list = []\n",
    "while True:\n",
    "    x = input(\"Enter a number: \")\n",
    "    if x == \"done\":\n",
    "        break\n",
    "        \n",
    "    list.append(float(x))\n",
    "\n",
    "    \n",
    "print(list)\n",
    "print(\"Average:\", (sum(list)/len(list)))\n",
    "print(\"Maximum: \", max(list))\n",
    "print(\"Minimum: \", min(list))"
   ]
  },
  {
   "cell_type": "code",
   "execution_count": 3,
   "metadata": {},
   "outputs": [
    {
     "name": "stdout",
     "output_type": "stream",
     "text": [
      "Average:  3.0\n",
      "Maximum:  5\n",
      "Minimum:  1\n"
     ]
    }
   ],
   "source": [
    "list1 = [1,2,3,4]\n",
    "list1.append(5)\n",
    "print(\"Average: \", (sum(list1)/len(list1)))\n",
    "print(\"Maximum: \", max(list1))\n",
    "print(\"Minimum: \", min(list1))"
   ]
  },
  {
   "cell_type": "code",
   "execution_count": 9,
   "metadata": {},
   "outputs": [
    {
     "name": "stdout",
     "output_type": "stream",
     "text": [
      "1\n",
      "2\n",
      "10\n"
     ]
    }
   ],
   "source": [
    "d = {'youn':1, 'park':2, 'kim':10}\n",
    "for val in d.values():\n",
    "    print(val)"
   ]
  },
  {
   "cell_type": "code",
   "execution_count": 12,
   "metadata": {},
   "outputs": [
    {
     "ename": "TypeError",
     "evalue": "'list' object is not callable",
     "output_type": "error",
     "traceback": [
      "\u001b[1;31m---------------------------------------------------------------------------\u001b[0m",
      "\u001b[1;31mTypeError\u001b[0m                                 Traceback (most recent call last)",
      "\u001b[1;32m<ipython-input-12-7063dc58517f>\u001b[0m in \u001b[0;36m<module>\u001b[1;34m\u001b[0m\n\u001b[1;32m----> 1\u001b[1;33m \u001b[0ma\u001b[0m\u001b[1;33m=\u001b[0m\u001b[0mlist\u001b[0m\u001b[1;33m(\u001b[0m\u001b[0mrange\u001b[0m\u001b[1;33m(\u001b[0m\u001b[1;36m10\u001b[0m\u001b[1;33m)\u001b[0m\u001b[1;33m)\u001b[0m\u001b[1;33m\u001b[0m\u001b[1;33m\u001b[0m\u001b[0m\n\u001b[0m\u001b[0;32m      2\u001b[0m \u001b[0ma\u001b[0m\u001b[1;33m\u001b[0m\u001b[1;33m\u001b[0m\u001b[0m\n",
      "\u001b[1;31mTypeError\u001b[0m: 'list' object is not callable"
     ]
    }
   ],
   "source": []
  }
 ],
 "metadata": {
  "kernelspec": {
   "display_name": "Python 3",
   "language": "python",
   "name": "python3"
  },
  "language_info": {
   "codemirror_mode": {
    "name": "ipython",
    "version": 3
   },
   "file_extension": ".py",
   "mimetype": "text/x-python",
   "name": "python",
   "nbconvert_exporter": "python",
   "pygments_lexer": "ipython3",
   "version": "3.7.7"
  }
 },
 "nbformat": 4,
 "nbformat_minor": 4
}
