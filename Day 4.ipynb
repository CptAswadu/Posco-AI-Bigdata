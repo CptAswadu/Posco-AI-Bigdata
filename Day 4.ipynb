{
 "cells": [
  {
   "cell_type": "code",
   "execution_count": 4,
   "metadata": {},
   "outputs": [
    {
     "name": "stdout",
     "output_type": "stream",
     "text": [
      "0\n",
      "500\n",
      "500\n",
      "200\n",
      "200\n"
     ]
    }
   ],
   "source": [
    "balance = 0\n",
    "\n",
    "def deposit(amount):\n",
    "    global balance\n",
    "    balance += amount\n",
    "    return balance\n",
    "\n",
    "def withdraw(amount):\n",
    "    global balance\n",
    "    balance -= amount\n",
    "    return balance\n",
    "\n",
    "print(balance)\n",
    "print(deposit(500))\n",
    "print(balance)\n",
    "print(withdraw(300))\n",
    "print(balance)"
   ]
  },
  {
   "cell_type": "code",
   "execution_count": 7,
   "metadata": {},
   "outputs": [],
   "source": [
    "def make_account():\n",
    "    return {'balance': 0}\n",
    "\n",
    "def deposit(account, amount):\n",
    "    account['balance'] += amount\n",
    "    return account['balance']\n",
    "    \n",
    "def withdraw(account, amount):\n",
    "    account['balance'] -= amount\n",
    "    return account['balance']\n"
   ]
  },
  {
   "cell_type": "code",
   "execution_count": 8,
   "metadata": {},
   "outputs": [
    {
     "name": "stdout",
     "output_type": "stream",
     "text": [
      "0\n",
      "0\n",
      "1000\n",
      "2000\n"
     ]
    }
   ],
   "source": [
    "a = make_account()\n",
    "b = make_account()\n",
    "print(a['balance'])\n",
    "print(b['balance'])\n",
    "print(deposit(a, 1000))\n",
    "print(deposit(b, 2000))"
   ]
  },
  {
   "cell_type": "code",
   "execution_count": 9,
   "metadata": {},
   "outputs": [],
   "source": [
    "class My:\n",
    "    i = 123\n",
    "    def f(self):\n",
    "        return 'hello'"
   ]
  },
  {
   "cell_type": "code",
   "execution_count": 10,
   "metadata": {},
   "outputs": [],
   "source": [
    "x = My()"
   ]
  },
  {
   "cell_type": "code",
   "execution_count": 11,
   "metadata": {},
   "outputs": [],
   "source": [
    "y = My()\n",
    "z = My()"
   ]
  },
  {
   "cell_type": "code",
   "execution_count": 13,
   "metadata": {},
   "outputs": [],
   "source": [
    "class BankAccount:\n",
    "    def __init__(self, _name = 'none', _balance = 0):\n",
    "        self.name = _name\n",
    "        self.balance = _balabce\n",
    "        \n",
    "    def deposit(account, amount):\n",
    "        self.balance += amount\n",
    "        return self.balnce\n",
    "    \n",
    "    def withdraw(account, amount):\n",
    "        if self.balance >= amount:\n",
    "            selfbalance -= amount\n",
    "        else:\n",
    "            print(\"잔액 부족\")\n",
    "        return self.balnace\n",
    "            \n",
    "    def get_info(self):\n",
    "        print(\"이름: \", self.name)\n",
    "        print(\"잔고: \", self.balance)\n",
    "        \n"
   ]
  },
  {
   "cell_type": "code",
   "execution_count": 17,
   "metadata": {},
   "outputs": [],
   "source": [
    "class MinimumBalanceAccount(BankAccount):\n",
    "    def __init__(self, minimum_balance, _name = \"none\"):\n",
    "        super().__init__(_name = name)\n",
    "        self.minimum_balance = minimum_balance\n",
    "    \n",
    "    def withdraw(account, amount):\n",
    "        if self.balance - amount < self.minimum_balance:\n",
    "            print('최소 잔액을 유지해야 합니다')\n",
    "        else:\n",
    "            super().withdraw(amount)"
   ]
  },
  {
   "cell_type": "code",
   "execution_count": 18,
   "metadata": {},
   "outputs": [
    {
     "ename": "TypeError",
     "evalue": "Account() takes no arguments",
     "output_type": "error",
     "traceback": [
      "\u001b[1;31m---------------------------------------------------------------------------\u001b[0m",
      "\u001b[1;31mTypeError\u001b[0m                                 Traceback (most recent call last)",
      "\u001b[1;32m<ipython-input-18-5be45022ae8e>\u001b[0m in \u001b[0;36m<module>\u001b[1;34m\u001b[0m\n\u001b[0;32m      8\u001b[0m         \u001b[1;32mreturn\u001b[0m \u001b[0mself\u001b[0m\u001b[1;33m\u001b[0m\u001b[1;33m\u001b[0m\u001b[0m\n\u001b[0;32m      9\u001b[0m \u001b[1;33m\u001b[0m\u001b[0m\n\u001b[1;32m---> 10\u001b[1;33m \u001b[0macc\u001b[0m \u001b[1;33m=\u001b[0m \u001b[0mAccount\u001b[0m\u001b[1;33m(\u001b[0m\u001b[1;36m1000\u001b[0m\u001b[1;33m)\u001b[0m\u001b[1;33m\u001b[0m\u001b[1;33m\u001b[0m\u001b[0m\n\u001b[0m\u001b[0;32m     11\u001b[0m \u001b[0macc\u001b[0m \u001b[1;33m+=\u001b[0m \u001b[1;36m1000\u001b[0m\u001b[1;33m\u001b[0m\u001b[1;33m\u001b[0m\u001b[0m\n\u001b[0;32m     12\u001b[0m \u001b[0mprint\u001b[0m\u001b[1;33m(\u001b[0m\u001b[0macc\u001b[0m\u001b[1;33m.\u001b[0m\u001b[0mbalance\u001b[0m\u001b[1;33m)\u001b[0m\u001b[1;33m\u001b[0m\u001b[1;33m\u001b[0m\u001b[0m\n",
      "\u001b[1;31mTypeError\u001b[0m: Account() takes no arguments"
     ]
    }
   ],
   "source": [
    "class Account:\n",
    "    def __iadd__(self, amount):\n",
    "        self.deposit(amount)\n",
    "        return self\n",
    "    \n",
    "    def __isub__(self, amount):\n",
    "        self.withdraw(amount)\n",
    "        return self\n",
    "    \n",
    "acc = Account(1000)\n",
    "acc += 1000\n",
    "print(acc.balance)"
   ]
  },
  {
   "cell_type": "code",
   "execution_count": 19,
   "metadata": {},
   "outputs": [],
   "source": [
    "fw = open(\"new.txt\", \"w\")\n",
    "\n",
    "for i in range(1, 6):\n",
    "    data = \"%d line\\n\" %i\n",
    "    fw.write(data)\n",
    "    \n",
    "fw.close()"
   ]
  },
  {
   "cell_type": "code",
   "execution_count": null,
   "metadata": {},
   "outputs": [],
   "source": [
    "fr = open(\"new.txt\", \"r\")\n",
    "for line in"
   ]
  },
  {
   "cell_type": "code",
   "execution_count": null,
   "metadata": {},
   "outputs": [],
   "source": [
    "with open(\"output.txt\", \"w\")as f:\n",
    "    f.write(\"Python is fun!\")\n",
    "\n",
    "#f.tell() 현재 파일 포인터 위치 반환\n",
    "#f.seek() 지정하는 곳으로 포인터 위치 변경"
   ]
  },
  {
   "cell_type": "code",
   "execution_count": null,
   "metadata": {},
   "outputs": [],
   "source": [
    "import sys\n",
    "args = sys.argv[1:]\n",
    "for i in args:\n",
    "    print(i)"
   ]
  },
  {
   "cell_type": "code",
   "execution_count": null,
   "metadata": {},
   "outputs": [],
   "source": []
  }
 ],
 "metadata": {
  "kernelspec": {
   "display_name": "Python 3",
   "language": "python",
   "name": "python3"
  },
  "language_info": {
   "codemirror_mode": {
    "name": "ipython",
    "version": 3
   },
   "file_extension": ".py",
   "mimetype": "text/x-python",
   "name": "python",
   "nbconvert_exporter": "python",
   "pygments_lexer": "ipython3",
   "version": "3.7.7"
  }
 },
 "nbformat": 4,
 "nbformat_minor": 4
}
