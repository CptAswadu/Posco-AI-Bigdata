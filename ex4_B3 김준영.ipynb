{
 "cells": [
  {
   "cell_type": "markdown",
   "metadata": {},
   "source": [
    "# 문제1"
   ]
  },
  {
   "cell_type": "code",
   "execution_count": 1,
   "metadata": {},
   "outputs": [
    {
     "name": "stdout",
     "output_type": "stream",
     "text": [
      "first 1\n",
      "line 3\n",
      "second 1\n",
      "third 1\n"
     ]
    }
   ],
   "source": [
    "f = open(\"test.txt\", \"r\")\n",
    "word = f.read()\n",
    "wordlist = word.split()\n",
    "wordcount = {}\n",
    "for word in wordlist:\n",
    "    wordcount[word] = wordcount.get(word, 0) + 1\n",
    "    keys = sorted(wordcount.keys())\n",
    "for word in keys:\n",
    "    print(word, str(wordcount[word]))"
   ]
  },
  {
   "cell_type": "code",
   "execution_count": 1,
   "metadata": {},
   "outputs": [
    {
     "data": {
      "text/plain": [
       "'first line\\nsecond line\\nthird line'"
      ]
     },
     "execution_count": 1,
     "metadata": {},
     "output_type": "execute_result"
    }
   ],
   "source": [
    "f = open(\"test.txt\", \"r\")\n",
    "word = f.read()\n",
    "word"
   ]
  },
  {
   "cell_type": "markdown",
   "metadata": {},
   "source": [
    "# 문제2"
   ]
  },
  {
   "cell_type": "code",
   "execution_count": 17,
   "metadata": {},
   "outputs": [
    {
     "name": "stdout",
     "output_type": "stream",
     "text": [
      "Enter a file name: test.txt\n",
      "FIRST LINE\n",
      "SECOND LINE\n",
      "THIRD LINE\n"
     ]
    }
   ],
   "source": [
    "import os\n",
    "file = input(\"Enter a file name: \")\n",
    "f = open(file, 'r')\n",
    "\n",
    "if os.path.exists(file):\n",
    "    data = f.read()\n",
    "    print(data.upper())"
   ]
  },
  {
   "cell_type": "markdown",
   "metadata": {},
   "source": [
    "# 문제3"
   ]
  },
  {
   "cell_type": "code",
   "execution_count": 19,
   "metadata": {},
   "outputs": [],
   "source": [
    "import sys\n",
    "args = sys.argv[1:]\n",
    "\n",
    "fr = open('src.txt', 'r')\n",
    "fw = open('dst.txt', 'w')\n",
    "\n",
    "for line in fr:\n",
    "    fw.write(line)\n",
    "\n",
    "fw.close()\n",
    "fr.close()"
   ]
  },
  {
   "cell_type": "markdown",
   "metadata": {},
   "source": [
    "# 문제4"
   ]
  },
  {
   "cell_type": "code",
   "execution_count": 53,
   "metadata": {},
   "outputs": [],
   "source": [
    "def process_line(line):\n",
    "    keys = ('mid', 'fin')\n",
    "    num, *marks = line.split()\n",
    "    dic = dict(zip(keys, (int(x) for x in marks)))\n",
    "    dic['학번'] = num\n",
    "    return dic\n",
    "\n",
    "with open('score.txt') as f:\n",
    "    data = [process_line(line) for line in f]\n",
    "    \n",
    "for i in range(len(data)):\n",
    "    tot = data[i]['mid']*0.4 + data[i]['fin']*0.6\n",
    "    if tot >= 90:\n",
    "        grade = 'A'\n",
    "    elif tot >= 80:\n",
    "        grade = 'B'\n",
    "    elif tot >= 70:\n",
    "        grade = 'C'\n",
    "    elif tot >= 60:\n",
    "        grade = 'D'\n",
    "    else:\n",
    "        grade = 'F'\n",
    "    c = {'tot': tot, 'grade': grade}\n",
    "    data[i].update(c)\n",
    "\n",
    "\n",
    "data = str(data)\n",
    "f = open( \"report.txt\", \"w\")\n",
    "f.write(data)\n",
    "f.close()"
   ]
  }
 ],
 "metadata": {
  "kernelspec": {
   "display_name": "Python 3",
   "language": "python",
   "name": "python3"
  },
  "language_info": {
   "codemirror_mode": {
    "name": "ipython",
    "version": 3
   },
   "file_extension": ".py",
   "mimetype": "text/x-python",
   "name": "python",
   "nbconvert_exporter": "python",
   "pygments_lexer": "ipython3",
   "version": "3.7.7"
  }
 },
 "nbformat": 4,
 "nbformat_minor": 4
}
