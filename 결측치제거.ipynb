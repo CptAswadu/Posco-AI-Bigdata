{
 "cells": [
  {
   "cell_type": "code",
   "execution_count": 1,
   "metadata": {},
   "outputs": [],
   "source": [
    "import pandas as pd\n",
    "import numpy as np\n",
    "import matplotlib\n",
    "import matplotlib.pyplot as plt\n",
    "import seaborn as sns\n",
    "from sklearn.preprocessing import StandardScaler\n",
    "from sklearn import metrics\n",
    "from sklearn.model_selection import train_test_split, GridSearchCV\n",
    "from statsmodels.api import Logit\n",
    "from sklearn.tree import DecisionTreeClassifier\n",
    "from sklearn.ensemble import RandomForestClassifier, GradientBoostingClassifier\n",
    "from sklearn.neural_network import MLPClassifier\n",
    "from sklearn.neighbors import KNeighborsClassifier\n",
    "from sklearn.metrics import confusion_matrix\n",
    "\n",
    "import os\n",
    "os.environ[\"PATH\"] += os.pathsep + \"C:/Program Files/Graphviz2.44.1/bin/\"\n",
    "from sklearn.tree import export_graphviz\n",
    "import graphviz"
   ]
  },
  {
   "cell_type": "code",
   "execution_count": 2,
   "metadata": {},
   "outputs": [],
   "source": [
    "# 한글 폰트 적용\n",
    "from matplotlib import font_manager, rc\n",
    "# font_fname = 'C:/Users/tjrdl/Desktop/Posco_AI_Bigdata_11th/Bigdata/NanumGothic.ttf'\n",
    "font_fname = 'C:/Users/tjrdl/AppData/Local/Microsoft/Windows/Fonts/NanumBarunGothic.otf'\n",
    "font_family = font_manager.FontProperties(fname=font_fname).get_name()\n",
    "matplotlib.rc('font', family=font_fname)\n",
    "\n",
    "%matplotlib inline\n",
    "plt.rcParams[\"font.family\"] = font_family"
   ]
  },
  {
   "cell_type": "code",
   "execution_count": 3,
   "metadata": {},
   "outputs": [],
   "source": [
    "df_order = pd.read_csv(\"log_order_sheet_000.csv\", engine=\"python\")\n",
    "df_member = pd.read_csv(\"master_member_sheet_000.csv\", engine=\"python\")\n",
    "df_product = pd.read_csv(\"master_product_sheet_000.csv\", engine=\"python\")"
   ]
  },
  {
   "cell_type": "code",
   "execution_count": 28,
   "metadata": {
    "collapsed": true
   },
   "outputs": [
    {
     "data": {
      "text/html": [
       "<div>\n",
       "<style scoped>\n",
       "    .dataframe tbody tr th:only-of-type {\n",
       "        vertical-align: middle;\n",
       "    }\n",
       "\n",
       "    .dataframe tbody tr th {\n",
       "        vertical-align: top;\n",
       "    }\n",
       "\n",
       "    .dataframe thead th {\n",
       "        text-align: right;\n",
       "    }\n",
       "</style>\n",
       "<table border=\"1\" class=\"dataframe\">\n",
       "  <thead>\n",
       "    <tr style=\"text-align: right;\">\n",
       "      <th></th>\n",
       "      <th>결제수단</th>\n",
       "      <th>공급원가</th>\n",
       "      <th>교환구분</th>\n",
       "      <th>네이버 포인트</th>\n",
       "      <th>배송번호</th>\n",
       "      <th>배송비 정보</th>\n",
       "      <th>배송시작일</th>\n",
       "      <th>배송완료일</th>\n",
       "      <th>사용한 적립금액</th>\n",
       "      <th>상품구매금액</th>\n",
       "      <th>...</th>\n",
       "      <th>수령인 주소</th>\n",
       "      <th>주문 시 회원등급</th>\n",
       "      <th>주문경로</th>\n",
       "      <th>주문번호</th>\n",
       "      <th>주문일시</th>\n",
       "      <th>주문자ID</th>\n",
       "      <th>카드사</th>\n",
       "      <th>쿠폰 할인금액</th>\n",
       "      <th>판매가</th>\n",
       "      <th>품목번호</th>\n",
       "    </tr>\n",
       "  </thead>\n",
       "  <tbody>\n",
       "    <tr>\n",
       "      <th>0</th>\n",
       "      <td>무통장입금</td>\n",
       "      <td>44550.0</td>\n",
       "      <td>교환안함</td>\n",
       "      <td>0</td>\n",
       "      <td>D-20181227-0000648-00</td>\n",
       "      <td>무료</td>\n",
       "      <td>2019-01-07 오전 8:56</td>\n",
       "      <td>2019-01-11 오전 5:32</td>\n",
       "      <td>0</td>\n",
       "      <td>71450</td>\n",
       "      <td>...</td>\n",
       "      <td>경상남도 거제시 능포로 168-1 (능포동)</td>\n",
       "      <td>전화주문 고객</td>\n",
       "      <td>PC쇼핑몰</td>\n",
       "      <td>20181227-0000648</td>\n",
       "      <td>2018-12-27 오후 2:54</td>\n",
       "      <td>pp683</td>\n",
       "      <td>NaN</td>\n",
       "      <td>0</td>\n",
       "      <td>71450</td>\n",
       "      <td>42602</td>\n",
       "    </tr>\n",
       "    <tr>\n",
       "      <th>1</th>\n",
       "      <td>무통장입금</td>\n",
       "      <td>44000.0</td>\n",
       "      <td>교환안함</td>\n",
       "      <td>0</td>\n",
       "      <td>D-20181229-0000119-00</td>\n",
       "      <td>무료</td>\n",
       "      <td>2019-01-03 오전 9:30</td>\n",
       "      <td>2019-01-07 오전 5:32</td>\n",
       "      <td>0</td>\n",
       "      <td>141240</td>\n",
       "      <td>...</td>\n",
       "      <td>서울특별시 동대문구 한천로36길 16 (장안동)</td>\n",
       "      <td>일반</td>\n",
       "      <td>모바일웹</td>\n",
       "      <td>20181229-0000119</td>\n",
       "      <td>2018-12-29 오후 1:22</td>\n",
       "      <td>asd0908</td>\n",
       "      <td>NaN</td>\n",
       "      <td>0</td>\n",
       "      <td>70620</td>\n",
       "      <td>42930</td>\n",
       "    </tr>\n",
       "    <tr>\n",
       "      <th>2</th>\n",
       "      <td>무통장입금</td>\n",
       "      <td>6820.0</td>\n",
       "      <td>교환안함</td>\n",
       "      <td>0</td>\n",
       "      <td>D-20181230-0000100-00</td>\n",
       "      <td>무료</td>\n",
       "      <td>2019-01-03 오전 9:30</td>\n",
       "      <td>2019-01-07 오전 5:32</td>\n",
       "      <td>0</td>\n",
       "      <td>13910</td>\n",
       "      <td>...</td>\n",
       "      <td>세종특별자치시 호려울로 29 (보람동)</td>\n",
       "      <td>NaN</td>\n",
       "      <td>모바일웹</td>\n",
       "      <td>20181230-0000100</td>\n",
       "      <td>2018-12-30 오후 3:15</td>\n",
       "      <td>NaN</td>\n",
       "      <td>NaN</td>\n",
       "      <td>0</td>\n",
       "      <td>13910</td>\n",
       "      <td>42998</td>\n",
       "    </tr>\n",
       "    <tr>\n",
       "      <th>3</th>\n",
       "      <td>무통장입금</td>\n",
       "      <td>49500.0</td>\n",
       "      <td>교환안함</td>\n",
       "      <td>0</td>\n",
       "      <td>D-20181231-0000087-00</td>\n",
       "      <td>무료</td>\n",
       "      <td>2019-01-03 오전 9:30</td>\n",
       "      <td>2019-01-07 오전 5:32</td>\n",
       "      <td>0</td>\n",
       "      <td>81600</td>\n",
       "      <td>...</td>\n",
       "      <td>부산광역시 부산진구 가야대로 482 (개금동)</td>\n",
       "      <td>일반</td>\n",
       "      <td>모바일웹</td>\n",
       "      <td>20181231-0000087</td>\n",
       "      <td>2018-12-31 오전 10:30</td>\n",
       "      <td>23533593@n</td>\n",
       "      <td>NaN</td>\n",
       "      <td>0</td>\n",
       "      <td>81600</td>\n",
       "      <td>43063</td>\n",
       "    </tr>\n",
       "    <tr>\n",
       "      <th>4</th>\n",
       "      <td>무통장입금</td>\n",
       "      <td>61600.0</td>\n",
       "      <td>교환안함</td>\n",
       "      <td>0</td>\n",
       "      <td>D-20181231-0000108-00</td>\n",
       "      <td>무료</td>\n",
       "      <td>2019-01-07 오전 8:56</td>\n",
       "      <td>2019-01-11 오전 5:32</td>\n",
       "      <td>0</td>\n",
       "      <td>94710</td>\n",
       "      <td>...</td>\n",
       "      <td>부산광역시 해운대구 선수촌로 104-21 (반여동)</td>\n",
       "      <td>사업자</td>\n",
       "      <td>모바일웹</td>\n",
       "      <td>20181231-0000108</td>\n",
       "      <td>2018-12-31 오전 10:43</td>\n",
       "      <td>romandoll</td>\n",
       "      <td>NaN</td>\n",
       "      <td>0</td>\n",
       "      <td>94710</td>\n",
       "      <td>43066</td>\n",
       "    </tr>\n",
       "  </tbody>\n",
       "</table>\n",
       "<p>5 rows × 24 columns</p>\n",
       "</div>"
      ],
      "text/plain": [
       "    결제수단     공급원가  교환구분  네이버 포인트                   배송번호 배송비 정보  \\\n",
       "0  무통장입금  44550.0  교환안함        0  D-20181227-0000648-00     무료   \n",
       "1  무통장입금  44000.0  교환안함        0  D-20181229-0000119-00     무료   \n",
       "2  무통장입금   6820.0  교환안함        0  D-20181230-0000100-00     무료   \n",
       "3  무통장입금  49500.0  교환안함        0  D-20181231-0000087-00     무료   \n",
       "4  무통장입금  61600.0  교환안함        0  D-20181231-0000108-00     무료   \n",
       "\n",
       "                배송시작일               배송완료일  사용한 적립금액  상품구매금액  ...  \\\n",
       "0  2019-01-07 오전 8:56  2019-01-11 오전 5:32         0   71450  ...   \n",
       "1  2019-01-03 오전 9:30  2019-01-07 오전 5:32         0  141240  ...   \n",
       "2  2019-01-03 오전 9:30  2019-01-07 오전 5:32         0   13910  ...   \n",
       "3  2019-01-03 오전 9:30  2019-01-07 오전 5:32         0   81600  ...   \n",
       "4  2019-01-07 오전 8:56  2019-01-11 오전 5:32         0   94710  ...   \n",
       "\n",
       "                         수령인 주소  주문 시 회원등급   주문경로              주문번호  \\\n",
       "0      경상남도 거제시 능포로 168-1 (능포동)    전화주문 고객  PC쇼핑몰  20181227-0000648   \n",
       "1    서울특별시 동대문구 한천로36길 16 (장안동)         일반   모바일웹  20181229-0000119   \n",
       "2         세종특별자치시 호려울로 29 (보람동)        NaN   모바일웹  20181230-0000100   \n",
       "3     부산광역시 부산진구 가야대로 482 (개금동)         일반   모바일웹  20181231-0000087   \n",
       "4  부산광역시 해운대구 선수촌로 104-21 (반여동)        사업자   모바일웹  20181231-0000108   \n",
       "\n",
       "                  주문일시       주문자ID  카드사 쿠폰 할인금액    판매가   품목번호  \n",
       "0   2018-12-27 오후 2:54       pp683  NaN       0  71450  42602  \n",
       "1   2018-12-29 오후 1:22     asd0908  NaN       0  70620  42930  \n",
       "2   2018-12-30 오후 3:15         NaN  NaN       0  13910  42998  \n",
       "3  2018-12-31 오전 10:30  23533593@n  NaN       0  81600  43063  \n",
       "4  2018-12-31 오전 10:43   romandoll  NaN       0  94710  43066  \n",
       "\n",
       "[5 rows x 24 columns]"
      ]
     },
     "execution_count": 28,
     "metadata": {},
     "output_type": "execute_result"
    }
   ],
   "source": [
    "df_order.head()"
   ]
  },
  {
   "cell_type": "code",
   "execution_count": 81,
   "metadata": {
    "collapsed": true
   },
   "outputs": [
    {
     "data": {
      "text/plain": [
       "결제수단              0\n",
       "공급원가             88\n",
       "교환구분              0\n",
       "네이버 포인트           0\n",
       "배송번호              0\n",
       "배송비 정보            0\n",
       "배송시작일             0\n",
       "배송완료일             0\n",
       "사용한 적립금액          0\n",
       "상품구매금액            0\n",
       "상품명              88\n",
       "상품번호             88\n",
       "상품별 추가할인금액        0\n",
       "수량                0\n",
       "수령인 주소            8\n",
       "주문 시 회원등급      3105\n",
       "주문경로              0\n",
       "주문번호              0\n",
       "주문일시              0\n",
       "주문자ID          3105\n",
       "카드사           30138\n",
       "쿠폰 할인금액           0\n",
       "판매가               0\n",
       "품목번호              0\n",
       "dtype: int64"
      ]
     },
     "execution_count": 81,
     "metadata": {},
     "output_type": "execute_result"
    }
   ],
   "source": [
    "df_order.isnull().sum()"
   ]
  },
  {
   "cell_type": "markdown",
   "metadata": {},
   "source": [
    "## 결측,이상치 정제\n",
    "\n",
    "1. 공급원가,상품명, 상품번호 결측치는 공백으로 확인 ==> 88개 row 제거\n",
    "2. 배송지 주소 결측치는 공백으로 확인 ==> 8개 row 제거\n",
    "3. 사은품 row는 모두 제거\n",
    "4. 주문 시 회원등급 결측치는 비회원으로 대체\n",
    "\n",
    "카드 이용한 결제 중 카드사 결측치는 없음.(결측치는 모두 카드결제 이외 결제 방법임)\n",
    "\n",
    "## 제거 변수\n",
    "### 사유\n",
    "네이버 포인트 사용여부<br>\n",
    "사용한 적립금액<br>\n",
    "상품별 추가할인금액<br>\n",
    "배송번호<br>\n",
    "-----> 불필요\n",
    "\n",
    "교환구분 ==> 전부 '교환안함'<br>\n",
    "배송비 정보 ==> 전부 '무료'<br>\n",
    "각종 고유 번호들\n",
    "\n",
    "## 파생 변수\n",
    "+ 주문일시, 배송시작일, 배송완료일 세가지로 \"리드 타임\" 생성\n",
    "+ 수령인 주소는 \"지역별 평균 배송소요일\" 생성"
   ]
  },
  {
   "cell_type": "code",
   "execution_count": 102,
   "metadata": {},
   "outputs": [],
   "source": [
    "# 상품명에 사은품은 모두 제거\n",
    "mask = df_order['상품명'].isin(['사은품']) \n",
    "df_order = df_order[~mask]"
   ]
  },
  {
   "cell_type": "code",
   "execution_count": 103,
   "metadata": {},
   "outputs": [],
   "source": [
    "df_order.dropna(subset=['상품명'], inplace=True)\n",
    "df_order.dropna(subset=['수령인 주소'], inplace=True)\n",
    "df_order[\"주문 시 회원등급\"].fillna(\"비회원\", inplace=True)"
   ]
  },
  {
   "cell_type": "code",
   "execution_count": 104,
   "metadata": {
    "collapsed": true
   },
   "outputs": [
    {
     "data": {
      "text/plain": [
       "결제수단              0\n",
       "공급원가              0\n",
       "교환구분              0\n",
       "네이버 포인트           0\n",
       "배송번호              0\n",
       "배송비 정보            0\n",
       "배송시작일             0\n",
       "배송완료일             0\n",
       "사용한 적립금액          0\n",
       "상품구매금액            0\n",
       "상품명               0\n",
       "상품번호              0\n",
       "상품별 추가할인금액        0\n",
       "수량                0\n",
       "수령인 주소            0\n",
       "주문 시 회원등급         0\n",
       "주문경로              0\n",
       "주문번호              0\n",
       "주문일시              0\n",
       "주문자ID          3063\n",
       "카드사           30100\n",
       "쿠폰 할인금액           0\n",
       "판매가               0\n",
       "품목번호              0\n",
       "dtype: int64"
      ]
     },
     "execution_count": 104,
     "metadata": {},
     "output_type": "execute_result"
    }
   ],
   "source": [
    "df_order.isnull().sum()"
   ]
  },
  {
   "cell_type": "code",
   "execution_count": 106,
   "metadata": {},
   "outputs": [],
   "source": [
    "df_order_scaled = df_order.drop(['교환구분','네이버 포인트','배송번호','배송비 정보','사용한 적립금액','상품별 추가할인금액',\n",
    "                                 '주문번호','주문자ID','카드사','쿠폰 할인금액','품목번호'], axis=1)"
   ]
  },
  {
   "cell_type": "code",
   "execution_count": 107,
   "metadata": {
    "collapsed": true
   },
   "outputs": [
    {
     "data": {
      "text/plain": [
       "결제수단          object\n",
       "공급원가         float64\n",
       "배송시작일         object\n",
       "배송완료일         object\n",
       "상품구매금액         int64\n",
       "상품명           object\n",
       "상품번호         float64\n",
       "수량             int64\n",
       "수령인 주소        object\n",
       "주문 시 회원등급     object\n",
       "주문경로          object\n",
       "주문일시          object\n",
       "판매가            int64\n",
       "dtype: object"
      ]
     },
     "execution_count": 107,
     "metadata": {},
     "output_type": "execute_result"
    }
   ],
   "source": [
    "df_order_scaled.dtypes"
   ]
  },
  {
   "cell_type": "code",
   "execution_count": 108,
   "metadata": {},
   "outputs": [],
   "source": [
    "df_order_scaled = df_order_scaled.astype({'상품번호':int})"
   ]
  },
  {
   "cell_type": "code",
   "execution_count": 109,
   "metadata": {
    "collapsed": true
   },
   "outputs": [
    {
     "data": {
      "text/html": [
       "<div>\n",
       "<style scoped>\n",
       "    .dataframe tbody tr th:only-of-type {\n",
       "        vertical-align: middle;\n",
       "    }\n",
       "\n",
       "    .dataframe tbody tr th {\n",
       "        vertical-align: top;\n",
       "    }\n",
       "\n",
       "    .dataframe thead th {\n",
       "        text-align: right;\n",
       "    }\n",
       "</style>\n",
       "<table border=\"1\" class=\"dataframe\">\n",
       "  <thead>\n",
       "    <tr style=\"text-align: right;\">\n",
       "      <th></th>\n",
       "      <th>결제수단</th>\n",
       "      <th>공급원가</th>\n",
       "      <th>배송시작일</th>\n",
       "      <th>배송완료일</th>\n",
       "      <th>상품구매금액</th>\n",
       "      <th>상품명</th>\n",
       "      <th>상품번호</th>\n",
       "      <th>수량</th>\n",
       "      <th>수령인 주소</th>\n",
       "      <th>주문 시 회원등급</th>\n",
       "      <th>주문경로</th>\n",
       "      <th>주문일시</th>\n",
       "      <th>판매가</th>\n",
       "    </tr>\n",
       "  </thead>\n",
       "  <tbody>\n",
       "    <tr>\n",
       "      <th>0</th>\n",
       "      <td>무통장입금</td>\n",
       "      <td>44550.0</td>\n",
       "      <td>2019-01-07 오전 8:56</td>\n",
       "      <td>2019-01-11 오전 5:32</td>\n",
       "      <td>71450</td>\n",
       "      <td>195파이 탕용기 소 300개 1set(2박스)</td>\n",
       "      <td>1077</td>\n",
       "      <td>1</td>\n",
       "      <td>경상남도 거제시 능포로 168-1 (능포동)</td>\n",
       "      <td>전화주문 고객</td>\n",
       "      <td>PC쇼핑몰</td>\n",
       "      <td>2018-12-27 오후 2:54</td>\n",
       "      <td>71450</td>\n",
       "    </tr>\n",
       "    <tr>\n",
       "      <th>1</th>\n",
       "      <td>무통장입금</td>\n",
       "      <td>44000.0</td>\n",
       "      <td>2019-01-03 오전 9:30</td>\n",
       "      <td>2019-01-07 오전 5:32</td>\n",
       "      <td>141240</td>\n",
       "      <td>95파이 다용도컵 세트 4호 소 200ml 백색 PS 1,000개 1set(2박스)</td>\n",
       "      <td>42</td>\n",
       "      <td>2</td>\n",
       "      <td>서울특별시 동대문구 한천로36길 16 (장안동)</td>\n",
       "      <td>일반</td>\n",
       "      <td>모바일웹</td>\n",
       "      <td>2018-12-29 오후 1:22</td>\n",
       "      <td>70620</td>\n",
       "    </tr>\n",
       "    <tr>\n",
       "      <th>2</th>\n",
       "      <td>무통장입금</td>\n",
       "      <td>6820.0</td>\n",
       "      <td>2019-01-03 오전 9:30</td>\n",
       "      <td>2019-01-07 오전 5:32</td>\n",
       "      <td>13910</td>\n",
       "      <td>비닐봉투 배달중 중 백색 200개</td>\n",
       "      <td>1271</td>\n",
       "      <td>1</td>\n",
       "      <td>세종특별자치시 호려울로 29 (보람동)</td>\n",
       "      <td>비회원</td>\n",
       "      <td>모바일웹</td>\n",
       "      <td>2018-12-30 오후 3:15</td>\n",
       "      <td>13910</td>\n",
       "    </tr>\n",
       "    <tr>\n",
       "      <th>3</th>\n",
       "      <td>무통장입금</td>\n",
       "      <td>49500.0</td>\n",
       "      <td>2019-01-03 오전 9:30</td>\n",
       "      <td>2019-01-07 오전 5:32</td>\n",
       "      <td>81600</td>\n",
       "      <td>195파이 미니탕용기 투톤 300개 1set(2박스)</td>\n",
       "      <td>1085</td>\n",
       "      <td>1</td>\n",
       "      <td>부산광역시 부산진구 가야대로 482 (개금동)</td>\n",
       "      <td>일반</td>\n",
       "      <td>모바일웹</td>\n",
       "      <td>2018-12-31 오전 10:30</td>\n",
       "      <td>81600</td>\n",
       "    </tr>\n",
       "    <tr>\n",
       "      <th>4</th>\n",
       "      <td>무통장입금</td>\n",
       "      <td>61600.0</td>\n",
       "      <td>2019-01-07 오전 8:56</td>\n",
       "      <td>2019-01-11 오전 5:32</td>\n",
       "      <td>94710</td>\n",
       "      <td>250파이 원형 접시 미니 블랙 400개 1박스</td>\n",
       "      <td>1106</td>\n",
       "      <td>1</td>\n",
       "      <td>부산광역시 해운대구 선수촌로 104-21 (반여동)</td>\n",
       "      <td>사업자</td>\n",
       "      <td>모바일웹</td>\n",
       "      <td>2018-12-31 오전 10:43</td>\n",
       "      <td>94710</td>\n",
       "    </tr>\n",
       "  </tbody>\n",
       "</table>\n",
       "</div>"
      ],
      "text/plain": [
       "    결제수단     공급원가               배송시작일               배송완료일  상품구매금액  \\\n",
       "0  무통장입금  44550.0  2019-01-07 오전 8:56  2019-01-11 오전 5:32   71450   \n",
       "1  무통장입금  44000.0  2019-01-03 오전 9:30  2019-01-07 오전 5:32  141240   \n",
       "2  무통장입금   6820.0  2019-01-03 오전 9:30  2019-01-07 오전 5:32   13910   \n",
       "3  무통장입금  49500.0  2019-01-03 오전 9:30  2019-01-07 오전 5:32   81600   \n",
       "4  무통장입금  61600.0  2019-01-07 오전 8:56  2019-01-11 오전 5:32   94710   \n",
       "\n",
       "                                              상품명  상품번호  수량  \\\n",
       "0                      195파이 탕용기 소 300개 1set(2박스)  1077   1   \n",
       "1  95파이 다용도컵 세트 4호 소 200ml 백색 PS 1,000개 1set(2박스)    42   2   \n",
       "2                              비닐봉투 배달중 중 백색 200개  1271   1   \n",
       "3                   195파이 미니탕용기 투톤 300개 1set(2박스)  1085   1   \n",
       "4                      250파이 원형 접시 미니 블랙 400개 1박스  1106   1   \n",
       "\n",
       "                         수령인 주소 주문 시 회원등급   주문경로                 주문일시    판매가  \n",
       "0      경상남도 거제시 능포로 168-1 (능포동)   전화주문 고객  PC쇼핑몰   2018-12-27 오후 2:54  71450  \n",
       "1    서울특별시 동대문구 한천로36길 16 (장안동)        일반   모바일웹   2018-12-29 오후 1:22  70620  \n",
       "2         세종특별자치시 호려울로 29 (보람동)       비회원   모바일웹   2018-12-30 오후 3:15  13910  \n",
       "3     부산광역시 부산진구 가야대로 482 (개금동)        일반   모바일웹  2018-12-31 오전 10:30  81600  \n",
       "4  부산광역시 해운대구 선수촌로 104-21 (반여동)       사업자   모바일웹  2018-12-31 오전 10:43  94710  "
      ]
     },
     "execution_count": 109,
     "metadata": {},
     "output_type": "execute_result"
    }
   ],
   "source": [
    "df_order_scaled.head()"
   ]
  },
  {
   "cell_type": "code",
   "execution_count": null,
   "metadata": {},
   "outputs": [],
   "source": []
  },
  {
   "cell_type": "code",
   "execution_count": null,
   "metadata": {},
   "outputs": [],
   "source": []
  },
  {
   "cell_type": "code",
   "execution_count": null,
   "metadata": {},
   "outputs": [],
   "source": []
  },
  {
   "cell_type": "markdown",
   "metadata": {},
   "source": [
    "# product \n",
    "\n",
    "### 제조사 결측치 패커스 자체제작으로 처리"
   ]
  },
  {
   "cell_type": "code",
   "execution_count": 11,
   "metadata": {
    "scrolled": true
   },
   "outputs": [
    {
     "data": {
      "text/plain": [
       "#            0\n",
       "공급사          0\n",
       "과세/면세        0\n",
       "담기           0\n",
       "매입가          0\n",
       "상품명(기본)      0\n",
       "상품코드         0\n",
       "재입고알림        0\n",
       "제조사        486\n",
       "카테고리         0\n",
       "판매가          0\n",
       "품절여부         0\n",
       "후기           0\n",
       "dtype: int64"
      ]
     },
     "execution_count": 11,
     "metadata": {},
     "output_type": "execute_result"
    }
   ],
   "source": [
    "df_product.isnull().sum()"
   ]
  },
  {
   "cell_type": "code",
   "execution_count": 13,
   "metadata": {},
   "outputs": [],
   "source": [
    "df_product[\"제조사\"].fillna(\"자체제작\", inplace=True)"
   ]
  },
  {
   "cell_type": "code",
   "execution_count": 14,
   "metadata": {},
   "outputs": [
    {
     "data": {
      "text/plain": [
       "#          0\n",
       "공급사        0\n",
       "과세/면세      0\n",
       "담기         0\n",
       "매입가        0\n",
       "상품명(기본)    0\n",
       "상품코드       0\n",
       "재입고알림      0\n",
       "제조사        0\n",
       "카테고리       0\n",
       "판매가        0\n",
       "품절여부       0\n",
       "후기         0\n",
       "dtype: int64"
      ]
     },
     "execution_count": 14,
     "metadata": {},
     "output_type": "execute_result"
    }
   ],
   "source": [
    "df_product.isnull().sum()"
   ]
  },
  {
   "cell_type": "code",
   "execution_count": null,
   "metadata": {},
   "outputs": [],
   "source": []
  },
  {
   "cell_type": "code",
   "execution_count": null,
   "metadata": {},
   "outputs": [],
   "source": []
  },
  {
   "cell_type": "code",
   "execution_count": null,
   "metadata": {},
   "outputs": [],
   "source": []
  },
  {
   "cell_type": "code",
   "execution_count": null,
   "metadata": {},
   "outputs": [],
   "source": []
  },
  {
   "cell_type": "markdown",
   "metadata": {},
   "source": [
    "# member \n"
   ]
  },
  {
   "cell_type": "code",
   "execution_count": 15,
   "metadata": {},
   "outputs": [
    {
     "data": {
      "text/plain": [
       "ID              0\n",
       "나이              0\n",
       "사용가능 적립금        0\n",
       "성별              0\n",
       "주소(동/읍/면)     634\n",
       "최종접속일          52\n",
       "최종주문일        1422\n",
       "유입경로            0\n",
       "유입기기            0\n",
       "회원 가입일          0\n",
       "사업자구분           0\n",
       "회원구분            0\n",
       "dtype: int64"
      ]
     },
     "execution_count": 15,
     "metadata": {},
     "output_type": "execute_result"
    }
   ],
   "source": [
    "df_member.isnull().sum()"
   ]
  },
  {
   "cell_type": "markdown",
   "metadata": {},
   "source": [
    "최종주문일 결측치는 아이디는 있-지만 한 번도 주문을 한적이 없는 유저들<br>\n",
    "==> 프로모션 보내주는 아이디어"
   ]
  },
  {
   "cell_type": "code",
   "execution_count": null,
   "metadata": {},
   "outputs": [],
   "source": [
    "df_member['최종주문일'].fillna(df['최종접속일'], inplace=True)"
   ]
  },
  {
   "cell_type": "code",
   "execution_count": 9,
   "metadata": {},
   "outputs": [
    {
     "data": {
      "text/plain": [
       "40.921977186311786"
      ]
     },
     "execution_count": 9,
     "metadata": {},
     "output_type": "execute_result"
    }
   ],
   "source": [
    "df_member['나이'].mean()"
   ]
  },
  {
   "cell_type": "code",
   "execution_count": null,
   "metadata": {},
   "outputs": [],
   "source": []
  },
  {
   "cell_type": "code",
   "execution_count": null,
   "metadata": {},
   "outputs": [],
   "source": []
  }
 ],
 "metadata": {
  "kernelspec": {
   "display_name": "Python 3",
   "language": "python",
   "name": "python3"
  },
  "language_info": {
   "codemirror_mode": {
    "name": "ipython",
    "version": 3
   },
   "file_extension": ".py",
   "mimetype": "text/x-python",
   "name": "python",
   "nbconvert_exporter": "python",
   "pygments_lexer": "ipython3",
   "version": "3.7.7"
  }
 },
 "nbformat": 4,
 "nbformat_minor": 4
}
