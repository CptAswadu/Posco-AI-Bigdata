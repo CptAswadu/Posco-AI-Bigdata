{
 "cells": [
  {
   "cell_type": "markdown",
   "metadata": {},
   "source": [
    "# 과제1"
   ]
  },
  {
   "cell_type": "code",
   "execution_count": 28,
   "metadata": {},
   "outputs": [],
   "source": [
    "def check_prime(num):\n",
    "    if num != 1:\n",
    "        for i in range(2, num):\n",
    "            if num % i == 0:\n",
    "                return False\n",
    "    else:\n",
    "        return False\n",
    "    \n",
    "    return True\n",
    "    \n",
    "def main():\n",
    "    a = 13\n",
    "    b = 15\n",
    "    \n",
    "    if check_prime(a):\n",
    "        print(str(a)+'는 소수입니다.')\n",
    "    else:\n",
    "        print(str(a)+'는 소수가 아닙니다.')\n",
    "        \n",
    "    if check_prime(b):\n",
    "        print(str(b)+'는 소수입니다.')\n",
    "    else:\n",
    "        print(str(b)+'는 소수가 아닙니다.')"
   ]
  },
  {
   "cell_type": "code",
   "execution_count": 29,
   "metadata": {},
   "outputs": [
    {
     "name": "stdout",
     "output_type": "stream",
     "text": [
      "13는 소수입니다.\n",
      "15는 소수가 아닙니다.\n"
     ]
    }
   ],
   "source": [
    "main()"
   ]
  },
  {
   "cell_type": "markdown",
   "metadata": {},
   "source": [
    "# 과제2"
   ]
  },
  {
   "cell_type": "code",
   "execution_count": 31,
   "metadata": {},
   "outputs": [
    {
     "name": "stdout",
     "output_type": "stream",
     "text": [
      "1,234\n",
      "12,345,678\n",
      "12\n"
     ]
    }
   ],
   "source": [
    "def add_comma(val):\n",
    "    result = ''\n",
    "    while val >= 1000:\n",
    "        val, r = divmod(val, 1000)\n",
    "        result = \",%03d%s\" %(r, result)\n",
    "    return \"%d%s\" % (val, result)\n",
    "\n",
    "def main():\n",
    "    comma_added_1234 = add_comma(1234)\n",
    "    comma_added_12345678 = add_comma(12345678)\n",
    "    comma_added_12 = add_comma(12)\n",
    "    \n",
    "    print(comma_added_1234)\n",
    "    print(comma_added_12345678)\n",
    "    print(comma_added_12)\n",
    "    \n",
    "main()"
   ]
  },
  {
   "cell_type": "markdown",
   "metadata": {},
   "source": [
    "# 과제3"
   ]
  },
  {
   "cell_type": "code",
   "execution_count": 11,
   "metadata": {},
   "outputs": [
    {
     "name": "stdout",
     "output_type": "stream",
     "text": [
      "[['There'], ['was'], ['a'], ['farmer'], ['who'], ['had'], ['a'], ['dog'], ['.']]\n",
      "[['There', 'was'], ['was', 'a'], ['a', 'farmer'], ['farmer', 'who'], ['who', 'had'], ['had', 'a'], ['a', 'dog'], ['dog', '.']]\n"
     ]
    }
   ],
   "source": [
    "def tokenize(trg, N = 1):\n",
    "    trg = trg.split()\n",
    "    output = []\n",
    "    for i in range(len(trg) - N+1):\n",
    "        output.append(trg[i:i+N])\n",
    "    return output\n",
    "        \n",
    "def main():\n",
    "    a = 'There was a farmer who had a dog .'\n",
    "    print(tokenize(a))\n",
    "    print(tokenize(a, 2))\n",
    "\n",
    "main()"
   ]
  },
  {
   "cell_type": "markdown",
   "metadata": {},
   "source": [
    "# 과제4"
   ]
  },
  {
   "cell_type": "code",
   "execution_count": 73,
   "metadata": {},
   "outputs": [
    {
     "name": "stdout",
     "output_type": "stream",
     "text": [
      "평균:  [0.5, 0.5]\n",
      "분산:  [0.16666666666666666, 0.16666666666666666]\n"
     ]
    }
   ],
   "source": [
    "def mean_and_var(*val):\n",
    "    x = []\n",
    "    y = []\n",
    "    for i in range(len(val)):\n",
    "        x.append(val[i][0])\n",
    "        y.append(val[i][1])\n",
    "    mean1 = sum(x) / len(x)\n",
    "    mean2 = sum(y) / len(y)\n",
    "    mean = [mean1, mean2]\n",
    "    \n",
    "    for i in range(len(x)):\n",
    "        diff1.append((x[i] - mean1)**2)\n",
    "    for j in range(len(y)):\n",
    "        diff2.append((y[j] - mean2)**2)\n",
    "    var1 = sum(diff1) / len(diff1)\n",
    "    var2 = sum(diff2) / len(diff2)\n",
    "    var = [var1, var2]\n",
    "    return mean, var\n",
    "\n",
    "def main():\n",
    "    v1 = (0, 1)\n",
    "    v2 = (0.5, 0.5)\n",
    "    v3 = (1, 0)\n",
    "    m, var = mean_and_var(v1, v2, v3)\n",
    "    print('평균: ', m)\n",
    "    print('분산: ', var)\n",
    "    \n",
    "main()"
   ]
  },
  {
   "cell_type": "markdown",
   "metadata": {},
   "source": [
    "# 실습문제9"
   ]
  },
  {
   "cell_type": "code",
   "execution_count": 25,
   "metadata": {},
   "outputs": [],
   "source": [
    "def letter_dict(sen):\n",
    "    dic = dict()\n",
    "    for ch in sen:\n",
    "        if ch in dic:\n",
    "            dic[ch] += 1\n",
    "        else:\n",
    "            dic[ch] = 1\n",
    "    return dic\n",
    "\n",
    "def max_letter(dic):\n",
    "    max_v = max(dic.values())\n",
    "    for key in dic:\n",
    "        if dic[key] == max_v:\n",
    "            return key    \n",
    "\n",
    "def comb_dict(dict1, dict2):\n",
    "    dict3 = {x: dict1.get(x, 0) + dict2.get(x, 0) for x in set(dict1).union(dict2)}\n",
    "    return dict3"
   ]
  },
  {
   "cell_type": "code",
   "execution_count": 27,
   "metadata": {},
   "outputs": [
    {
     "name": "stdout",
     "output_type": "stream",
     "text": [
      "{'d': 1, ' ': 2, 'o': 1, 'b': 1, 'e': 3, 'w': 1, 'l': 3, 'p': 2, 'y': 1, 'a': 4, 'r': 1, 'n': 2}\n",
      "a\n"
     ]
    }
   ],
   "source": [
    "a = letter_dict('red apple')    \n",
    "b = letter_dict('yellow banana')\n",
    "c = comb_dict(a, b)\n",
    "\n",
    "print(c)\n",
    "print(max_letter(c))"
   ]
  }
 ],
 "metadata": {
  "kernelspec": {
   "display_name": "Python 3",
   "language": "python",
   "name": "python3"
  },
  "language_info": {
   "codemirror_mode": {
    "name": "ipython",
    "version": 3
   },
   "file_extension": ".py",
   "mimetype": "text/x-python",
   "name": "python",
   "nbconvert_exporter": "python",
   "pygments_lexer": "ipython3",
   "version": "3.7.7"
  }
 },
 "nbformat": 4,
 "nbformat_minor": 4
}
