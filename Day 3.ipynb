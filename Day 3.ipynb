{
 "cells": [
  {
   "cell_type": "code",
   "execution_count": 4,
   "metadata": {},
   "outputs": [
    {
     "name": "stdout",
     "output_type": "stream",
     "text": [
      "Enter a sentence: Python is fun!\n",
      "{'P': 1, 'y': 1, 't': 1, 'h': 1, 'o': 1, 'n': 2, ' ': 2, 'i': 1, 's': 1, 'f': 1, 'u': 1, '!': 1}\n"
     ]
    }
   ],
   "source": [
    "sen = input(\"Enter a sentence: \")\n",
    "\n",
    "dic = dict()\n",
    "for ch in sen:\n",
    "    if ch in dic:\n",
    "        dic[ch] += 1\n",
    "    else:\n",
    "        dic[ch] = 1\n",
    "        \n",
    "print(dic)"
   ]
  },
  {
   "cell_type": "code",
   "execution_count": null,
   "metadata": {},
   "outputs": [],
   "source": [
    "dic = dict()\n",
    "sen_set = set(sen)\n",
    "for ch in sen_set:\n",
    "    print(ch)\n",
    "    dic[ch] = sen.count(ch)\n",
    "    \n",
    "print(dic)"
   ]
  },
  {
   "cell_type": "code",
   "execution_count": 10,
   "metadata": {},
   "outputs": [],
   "source": [
    "def my_len(l):\n",
    "    length = []\n",
    "    for i in l:\n",
    "        length = length + l\n",
    "    return length\n"
   ]
  },
  {
   "cell_type": "code",
   "execution_count": 12,
   "metadata": {},
   "outputs": [],
   "source": [
    "def add(a, b):\n",
    "    result = a + b\n",
    "    return result\n",
    "\n",
    "def sub(a, b):\n",
    "    result = a - b\n",
    "    return result\n",
    "\n",
    "def mul(a, b):\n",
    "    result = a * b\n",
    "    return result\n",
    "\n",
    "def div(a, b):\n",
    "    result = a / b\n",
    "    if b == 0:\n",
    "        print(\"Error\")\n",
    "    return result\n"
   ]
  },
  {
   "cell_type": "code",
   "execution_count": 13,
   "metadata": {},
   "outputs": [],
   "source": [
    "def count_even(*n):\n",
    "    cnt = 0\n",
    "    for v in n:\n",
    "        if v % 2 == 0:\n",
    "            cnt += 1\n",
    "        return cnt"
   ]
  },
  {
   "cell_type": "code",
   "execution_count": 15,
   "metadata": {},
   "outputs": [
    {
     "name": "stdout",
     "output_type": "stream",
     "text": [
      "30\n"
     ]
    }
   ],
   "source": [
    "def addX(_x):\n",
    "    global x\n",
    "    x = x + _x\n",
    "    \n",
    "x = 10 \n",
    "y = 20\n",
    "\n",
    "addX(y)\n",
    "print(x)"
   ]
  },
  {
   "cell_type": "code",
   "execution_count": 16,
   "metadata": {},
   "outputs": [],
   "source": [
    "def factorial(n):\n",
    "    if(n > 1):\n",
    "        return n * factorial(n - 1)\n",
    "    else:\n",
    "        return 1\n"
   ]
  },
  {
   "cell_type": "code",
   "execution_count": 17,
   "metadata": {},
   "outputs": [
    {
     "data": {
      "text/plain": [
       "120"
      ]
     },
     "execution_count": 17,
     "metadata": {},
     "output_type": "execute_result"
    }
   ],
   "source": [
    "factorial(5)"
   ]
  },
  {
   "cell_type": "code",
   "execution_count": 19,
   "metadata": {},
   "outputs": [],
   "source": [
    "def my_factorial(n):\n",
    "    res = 1\n",
    "    for i in range(1, n + 1):\n",
    "        res = res * i\n",
    "    return res"
   ]
  },
  {
   "cell_type": "code",
   "execution_count": 20,
   "metadata": {},
   "outputs": [],
   "source": [
    "def Pow(n, a):\n",
    "    result = n ** a\n",
    "    return result"
   ]
  },
  {
   "cell_type": "code",
   "execution_count": 21,
   "metadata": {},
   "outputs": [
    {
     "data": {
      "text/plain": [
       "125"
      ]
     },
     "execution_count": 21,
     "metadata": {},
     "output_type": "execute_result"
    }
   ],
   "source": [
    "Pow(5, 3)"
   ]
  },
  {
   "cell_type": "code",
   "execution_count": 22,
   "metadata": {},
   "outputs": [
    {
     "data": {
      "text/plain": [
       "16"
      ]
     },
     "execution_count": 22,
     "metadata": {},
     "output_type": "execute_result"
    }
   ],
   "source": [
    "Pow(4, 2)"
   ]
  },
  {
   "cell_type": "code",
   "execution_count": 36,
   "metadata": {},
   "outputs": [],
   "source": [
    "def hour_min_sec(second):\n",
    "    Hour = second // 3600\n",
    "    Min = (second % 3600) // 60\n",
    "    Second = (second % 3600) % 60\n",
    "    return Hour, Min, Second\n"
   ]
  },
  {
   "cell_type": "code",
   "execution_count": 39,
   "metadata": {},
   "outputs": [
    {
     "name": "stdout",
     "output_type": "stream",
     "text": [
      "(16, 4, 54)\n",
      "16시간 4분 54초\n"
     ]
    }
   ],
   "source": [
    "print(hour_min_sec(57894))\n",
    "hour, min, sec = hour_min_sec(57894)\n",
    "print(\"%d시간 %d분 %d초\" % (hour, min, sec))"
   ]
  },
  {
   "cell_type": "code",
   "execution_count": 1,
   "metadata": {},
   "outputs": [
    {
     "name": "stdout",
     "output_type": "stream",
     "text": [
      "1\n",
      "9\n",
      "[3, 5, 2]\n"
     ]
    }
   ],
   "source": [
    "def get_min_max(l):\n",
    "    max_v = max(l)\n",
    "    min_v = min(l)\n",
    "    l.remove(max_v)\n",
    "    l.remove(min_v)\n",
    "    return min_v, max_v\n",
    "\n",
    "l = [3, 5, 9, 1, 2]\n",
    "\n",
    "min_val, max_val = get_min_max(l)\n",
    "print(min_val)\n",
    "print(max_val)\n",
    "print(l)"
   ]
  },
  {
   "cell_type": "code",
   "execution_count": 3,
   "metadata": {
    "scrolled": true
   },
   "outputs": [
    {
     "name": "stdout",
     "output_type": "stream",
     "text": [
      "로또 추첨을 시작합니다.\n",
      "추첨된 로또 번호 ==> [23, 33, 10, 37, 16, 36]\n"
     ]
    }
   ],
   "source": [
    "import random\n",
    "print(\"로또 추첨을 시작합니다.\")\n",
    "num = random.sample(list(range(1, 46)), 6)\n",
    "print(\"추첨된 로또 번호 ==>\", num)"
   ]
  },
  {
   "cell_type": "code",
   "execution_count": 19,
   "metadata": {},
   "outputs": [],
   "source": [
    "def letter_dict(sen):\n",
    "    dic = dict()\n",
    "    for ch in sen:\n",
    "        if ch in dic:\n",
    "            dic[ch] += 1\n",
    "        else:\n",
    "            dic[ch] = 1\n",
    "    return dic\n",
    "    "
   ]
  },
  {
   "cell_type": "code",
   "execution_count": 23,
   "metadata": {},
   "outputs": [
    {
     "data": {
      "text/plain": [
       "2"
      ]
     },
     "execution_count": 23,
     "metadata": {},
     "output_type": "execute_result"
    }
   ],
   "source": [
    "a = letter_dict('red apple')\n",
    "max(a.values())"
   ]
  },
  {
   "cell_type": "code",
   "execution_count": 26,
   "metadata": {},
   "outputs": [],
   "source": [
    "def max_letter(dic):\n",
    "    max_v = max(dic.values())\n",
    "    for key in dic:\n",
    "        if dic[key] == max_v:\n",
    "            return key"
   ]
  },
  {
   "cell_type": "code",
   "execution_count": 27,
   "metadata": {},
   "outputs": [
    {
     "name": "stdout",
     "output_type": "stream",
     "text": [
      "{'r': 1, 'e': 2, 'd': 1, ' ': 1, 'a': 1, 'p': 2, 'l': 1}\n",
      "dict_items([('r', 1), ('e', 2), ('d', 1), (' ', 1), ('a', 1), ('p', 2), ('l', 1)])\n",
      "e\n"
     ]
    }
   ],
   "source": [
    "a = letter_dict('red apple')\n",
    "print(a)\n",
    "print(a.items())\n",
    "print(max_letter(a)[0])"
   ]
  },
  {
   "cell_type": "code",
   "execution_count": 1,
   "metadata": {},
   "outputs": [],
   "source": [
    "def letter_dict(sen):\n",
    "    dic = dict()\n",
    "    for ch in sen:\n",
    "        if ch in dic:\n",
    "            dic[ch] += 1\n",
    "        else:\n",
    "            dic[ch] = 1\n",
    "    return dic\n",
    "\n",
    "def max_letter(dic):\n",
    "    max_v = max(dic.values())\n",
    "    for key in dic:\n",
    "        if dic[key] == max_v:\n",
    "            return key   "
   ]
  },
  {
   "cell_type": "code",
   "execution_count": 2,
   "metadata": {},
   "outputs": [
    {
     "data": {
      "text/plain": [
       "{'y': 1, 'e': 1, 'l': 2, 'o': 1, 'w': 1, ' ': 1, 'b': 1, 'a': 3, 'n': 2}"
      ]
     },
     "execution_count": 2,
     "metadata": {},
     "output_type": "execute_result"
    }
   ],
   "source": [
    "a = letter_dict('red apple')    \n",
    "b = letter_dict('yellow banana')\n",
    "a\n",
    "b"
   ]
  },
  {
   "cell_type": "code",
   "execution_count": 3,
   "metadata": {},
   "outputs": [
    {
     "data": {
      "text/plain": [
       "{'r': 1, 'e': 2, 'd': 1, ' ': 1, 'a': 1, 'p': 2, 'l': 1}"
      ]
     },
     "execution_count": 3,
     "metadata": {},
     "output_type": "execute_result"
    }
   ],
   "source": [
    "a"
   ]
  },
  {
   "cell_type": "code",
   "execution_count": 4,
   "metadata": {},
   "outputs": [
    {
     "data": {
      "text/plain": [
       "dict"
      ]
     },
     "execution_count": 4,
     "metadata": {},
     "output_type": "execute_result"
    }
   ],
   "source": [
    "type(a)"
   ]
  }
 ],
 "metadata": {
  "kernelspec": {
   "display_name": "Python 3",
   "language": "python",
   "name": "python3"
  },
  "language_info": {
   "codemirror_mode": {
    "name": "ipython",
    "version": 3
   },
   "file_extension": ".py",
   "mimetype": "text/x-python",
   "name": "python",
   "nbconvert_exporter": "python",
   "pygments_lexer": "ipython3",
   "version": "3.7.7"
  }
 },
 "nbformat": 4,
 "nbformat_minor": 4
}
